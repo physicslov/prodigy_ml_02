{
  "cells": [
    {
      "cell_type": "markdown",
      "metadata": {
        "id": "ejvOdU5y5w0P"
      },
      "source": [
        "Importing Required Modules\n"
      ]
    },
    {
      "cell_type": "code",
      "execution_count": 1,
      "metadata": {
        "id": "zvF-koed5cr8"
      },
      "outputs": [],
      "source": [
        "import numpy as np\n",
        "import pandas as pd\n",
        "import plotly.express as xp\n",
        "from sklearn.cluster import KMeans\n"
      ]
    },
    {
      "cell_type": "markdown",
      "metadata": {
        "id": "ui5x9j1Y6VT0"
      },
      "source": [
        "Loading Mall_Customer Dataset"
      ]
    },
    {
      "cell_type": "code",
      "execution_count": 3,
      "metadata": {
        "id": "35lV8uDT6Up1"
      },
      "outputs": [],
      "source": [
        "customer_df = pd.read_csv('Mall_Customers.csv')"
      ]
    },
    {
      "cell_type": "markdown",
      "metadata": {
        "id": "sx65TfQM6kEo"
      },
      "source": [
        "Displaying dataframe"
      ]
    },
    {
      "cell_type": "code",
      "execution_count": 3,
      "metadata": {
        "colab": {
          "base_uri": "https://localhost:8080/",
          "height": 206
        },
        "id": "HN8UtK5F6jwr",
        "outputId": "aa0e2a0f-6b6a-4de4-c1cc-6cd2bac66a65"
      },
      "outputs": [
        {
          "data": {
            "application/vnd.google.colaboratory.intrinsic+json": {
              "summary": "{\n  \"name\": \"customer_df\",\n  \"rows\": 5,\n  \"fields\": [\n    {\n      \"column\": \"CustomerID\",\n      \"properties\": {\n        \"dtype\": \"number\",\n        \"std\": 39,\n        \"min\": 57,\n        \"max\": 164,\n        \"num_unique_values\": 5,\n        \"samples\": [\n          164,\n          57,\n          135\n        ],\n        \"semantic_type\": \"\",\n        \"description\": \"\"\n      }\n    },\n    {\n      \"column\": \"Gender\",\n      \"properties\": {\n        \"dtype\": \"category\",\n        \"num_unique_values\": 2,\n        \"samples\": [\n          \"Female\",\n          \"Male\"\n        ],\n        \"semantic_type\": \"\",\n        \"description\": \"\"\n      }\n    },\n    {\n      \"column\": \"Age\",\n      \"properties\": {\n        \"dtype\": \"number\",\n        \"std\": 17,\n        \"min\": 20,\n        \"max\": 65,\n        \"num_unique_values\": 5,\n        \"samples\": [\n          31,\n          51\n        ],\n        \"semantic_type\": \"\",\n        \"description\": \"\"\n      }\n    },\n    {\n      \"column\": \"Annual Income (k$)\",\n      \"properties\": {\n        \"dtype\": \"number\",\n        \"std\": 14,\n        \"min\": 44,\n        \"max\": 81,\n        \"num_unique_values\": 5,\n        \"samples\": [\n          81,\n          44\n        ],\n        \"semantic_type\": \"\",\n        \"description\": \"\"\n      }\n    },\n    {\n      \"column\": \"Spending Score (1-100)\",\n      \"properties\": {\n        \"dtype\": \"number\",\n        \"std\": 36,\n        \"min\": 5,\n        \"max\": 93,\n        \"num_unique_values\": 5,\n        \"samples\": [\n          93,\n          50\n        ],\n        \"semantic_type\": \"\",\n        \"description\": \"\"\n      }\n    }\n  ]\n}",
              "type": "dataframe"
            },
            "text/html": [
              "\n",
              "  <div id=\"df-c9f0b2fd-779f-47fa-8fab-dff660366352\" class=\"colab-df-container\">\n",
              "    <div>\n",
              "<style scoped>\n",
              "    .dataframe tbody tr th:only-of-type {\n",
              "        vertical-align: middle;\n",
              "    }\n",
              "\n",
              "    .dataframe tbody tr th {\n",
              "        vertical-align: top;\n",
              "    }\n",
              "\n",
              "    .dataframe thead th {\n",
              "        text-align: right;\n",
              "    }\n",
              "</style>\n",
              "<table border=\"1\" class=\"dataframe\">\n",
              "  <thead>\n",
              "    <tr style=\"text-align: right;\">\n",
              "      <th></th>\n",
              "      <th>CustomerID</th>\n",
              "      <th>Gender</th>\n",
              "      <th>Age</th>\n",
              "      <th>Annual Income (k$)</th>\n",
              "      <th>Spending Score (1-100)</th>\n",
              "    </tr>\n",
              "  </thead>\n",
              "  <tbody>\n",
              "    <tr>\n",
              "      <th>110</th>\n",
              "      <td>111</td>\n",
              "      <td>Male</td>\n",
              "      <td>65</td>\n",
              "      <td>63</td>\n",
              "      <td>52</td>\n",
              "    </tr>\n",
              "    <tr>\n",
              "      <th>163</th>\n",
              "      <td>164</td>\n",
              "      <td>Female</td>\n",
              "      <td>31</td>\n",
              "      <td>81</td>\n",
              "      <td>93</td>\n",
              "    </tr>\n",
              "    <tr>\n",
              "      <th>134</th>\n",
              "      <td>135</td>\n",
              "      <td>Male</td>\n",
              "      <td>20</td>\n",
              "      <td>73</td>\n",
              "      <td>5</td>\n",
              "    </tr>\n",
              "    <tr>\n",
              "      <th>130</th>\n",
              "      <td>131</td>\n",
              "      <td>Male</td>\n",
              "      <td>47</td>\n",
              "      <td>71</td>\n",
              "      <td>9</td>\n",
              "    </tr>\n",
              "    <tr>\n",
              "      <th>56</th>\n",
              "      <td>57</td>\n",
              "      <td>Female</td>\n",
              "      <td>51</td>\n",
              "      <td>44</td>\n",
              "      <td>50</td>\n",
              "    </tr>\n",
              "  </tbody>\n",
              "</table>\n",
              "</div>\n",
              "    <div class=\"colab-df-buttons\">\n",
              "\n",
              "  <div class=\"colab-df-container\">\n",
              "    <button class=\"colab-df-convert\" onclick=\"convertToInteractive('df-c9f0b2fd-779f-47fa-8fab-dff660366352')\"\n",
              "            title=\"Convert this dataframe to an interactive table.\"\n",
              "            style=\"display:none;\">\n",
              "\n",
              "  <svg xmlns=\"http://www.w3.org/2000/svg\" height=\"24px\" viewBox=\"0 -960 960 960\">\n",
              "    <path d=\"M120-120v-720h720v720H120Zm60-500h600v-160H180v160Zm220 220h160v-160H400v160Zm0 220h160v-160H400v160ZM180-400h160v-160H180v160Zm440 0h160v-160H620v160ZM180-180h160v-160H180v160Zm440 0h160v-160H620v160Z\"/>\n",
              "  </svg>\n",
              "    </button>\n",
              "\n",
              "  <style>\n",
              "    .colab-df-container {\n",
              "      display:flex;\n",
              "      gap: 12px;\n",
              "    }\n",
              "\n",
              "    .colab-df-convert {\n",
              "      background-color: #E8F0FE;\n",
              "      border: none;\n",
              "      border-radius: 50%;\n",
              "      cursor: pointer;\n",
              "      display: none;\n",
              "      fill: #1967D2;\n",
              "      height: 32px;\n",
              "      padding: 0 0 0 0;\n",
              "      width: 32px;\n",
              "    }\n",
              "\n",
              "    .colab-df-convert:hover {\n",
              "      background-color: #E2EBFA;\n",
              "      box-shadow: 0px 1px 2px rgba(60, 64, 67, 0.3), 0px 1px 3px 1px rgba(60, 64, 67, 0.15);\n",
              "      fill: #174EA6;\n",
              "    }\n",
              "\n",
              "    .colab-df-buttons div {\n",
              "      margin-bottom: 4px;\n",
              "    }\n",
              "\n",
              "    [theme=dark] .colab-df-convert {\n",
              "      background-color: #3B4455;\n",
              "      fill: #D2E3FC;\n",
              "    }\n",
              "\n",
              "    [theme=dark] .colab-df-convert:hover {\n",
              "      background-color: #434B5C;\n",
              "      box-shadow: 0px 1px 3px 1px rgba(0, 0, 0, 0.15);\n",
              "      filter: drop-shadow(0px 1px 2px rgba(0, 0, 0, 0.3));\n",
              "      fill: #FFFFFF;\n",
              "    }\n",
              "  </style>\n",
              "\n",
              "    <script>\n",
              "      const buttonEl =\n",
              "        document.querySelector('#df-c9f0b2fd-779f-47fa-8fab-dff660366352 button.colab-df-convert');\n",
              "      buttonEl.style.display =\n",
              "        google.colab.kernel.accessAllowed ? 'block' : 'none';\n",
              "\n",
              "      async function convertToInteractive(key) {\n",
              "        const element = document.querySelector('#df-c9f0b2fd-779f-47fa-8fab-dff660366352');\n",
              "        const dataTable =\n",
              "          await google.colab.kernel.invokeFunction('convertToInteractive',\n",
              "                                                    [key], {});\n",
              "        if (!dataTable) return;\n",
              "\n",
              "        const docLinkHtml = 'Like what you see? Visit the ' +\n",
              "          '<a target=\"_blank\" href=https://colab.research.google.com/notebooks/data_table.ipynb>data table notebook</a>'\n",
              "          + ' to learn more about interactive tables.';\n",
              "        element.innerHTML = '';\n",
              "        dataTable['output_type'] = 'display_data';\n",
              "        await google.colab.output.renderOutput(dataTable, element);\n",
              "        const docLink = document.createElement('div');\n",
              "        docLink.innerHTML = docLinkHtml;\n",
              "        element.appendChild(docLink);\n",
              "      }\n",
              "    </script>\n",
              "  </div>\n",
              "\n",
              "\n",
              "<div id=\"df-34730b26-c2b9-4c5b-a1c4-4a2c7812897e\">\n",
              "  <button class=\"colab-df-quickchart\" onclick=\"quickchart('df-34730b26-c2b9-4c5b-a1c4-4a2c7812897e')\"\n",
              "            title=\"Suggest charts\"\n",
              "            style=\"display:none;\">\n",
              "\n",
              "<svg xmlns=\"http://www.w3.org/2000/svg\" height=\"24px\"viewBox=\"0 0 24 24\"\n",
              "     width=\"24px\">\n",
              "    <g>\n",
              "        <path d=\"M19 3H5c-1.1 0-2 .9-2 2v14c0 1.1.9 2 2 2h14c1.1 0 2-.9 2-2V5c0-1.1-.9-2-2-2zM9 17H7v-7h2v7zm4 0h-2V7h2v10zm4 0h-2v-4h2v4z\"/>\n",
              "    </g>\n",
              "</svg>\n",
              "  </button>\n",
              "\n",
              "<style>\n",
              "  .colab-df-quickchart {\n",
              "      --bg-color: #E8F0FE;\n",
              "      --fill-color: #1967D2;\n",
              "      --hover-bg-color: #E2EBFA;\n",
              "      --hover-fill-color: #174EA6;\n",
              "      --disabled-fill-color: #AAA;\n",
              "      --disabled-bg-color: #DDD;\n",
              "  }\n",
              "\n",
              "  [theme=dark] .colab-df-quickchart {\n",
              "      --bg-color: #3B4455;\n",
              "      --fill-color: #D2E3FC;\n",
              "      --hover-bg-color: #434B5C;\n",
              "      --hover-fill-color: #FFFFFF;\n",
              "      --disabled-bg-color: #3B4455;\n",
              "      --disabled-fill-color: #666;\n",
              "  }\n",
              "\n",
              "  .colab-df-quickchart {\n",
              "    background-color: var(--bg-color);\n",
              "    border: none;\n",
              "    border-radius: 50%;\n",
              "    cursor: pointer;\n",
              "    display: none;\n",
              "    fill: var(--fill-color);\n",
              "    height: 32px;\n",
              "    padding: 0;\n",
              "    width: 32px;\n",
              "  }\n",
              "\n",
              "  .colab-df-quickchart:hover {\n",
              "    background-color: var(--hover-bg-color);\n",
              "    box-shadow: 0 1px 2px rgba(60, 64, 67, 0.3), 0 1px 3px 1px rgba(60, 64, 67, 0.15);\n",
              "    fill: var(--button-hover-fill-color);\n",
              "  }\n",
              "\n",
              "  .colab-df-quickchart-complete:disabled,\n",
              "  .colab-df-quickchart-complete:disabled:hover {\n",
              "    background-color: var(--disabled-bg-color);\n",
              "    fill: var(--disabled-fill-color);\n",
              "    box-shadow: none;\n",
              "  }\n",
              "\n",
              "  .colab-df-spinner {\n",
              "    border: 2px solid var(--fill-color);\n",
              "    border-color: transparent;\n",
              "    border-bottom-color: var(--fill-color);\n",
              "    animation:\n",
              "      spin 1s steps(1) infinite;\n",
              "  }\n",
              "\n",
              "  @keyframes spin {\n",
              "    0% {\n",
              "      border-color: transparent;\n",
              "      border-bottom-color: var(--fill-color);\n",
              "      border-left-color: var(--fill-color);\n",
              "    }\n",
              "    20% {\n",
              "      border-color: transparent;\n",
              "      border-left-color: var(--fill-color);\n",
              "      border-top-color: var(--fill-color);\n",
              "    }\n",
              "    30% {\n",
              "      border-color: transparent;\n",
              "      border-left-color: var(--fill-color);\n",
              "      border-top-color: var(--fill-color);\n",
              "      border-right-color: var(--fill-color);\n",
              "    }\n",
              "    40% {\n",
              "      border-color: transparent;\n",
              "      border-right-color: var(--fill-color);\n",
              "      border-top-color: var(--fill-color);\n",
              "    }\n",
              "    60% {\n",
              "      border-color: transparent;\n",
              "      border-right-color: var(--fill-color);\n",
              "    }\n",
              "    80% {\n",
              "      border-color: transparent;\n",
              "      border-right-color: var(--fill-color);\n",
              "      border-bottom-color: var(--fill-color);\n",
              "    }\n",
              "    90% {\n",
              "      border-color: transparent;\n",
              "      border-bottom-color: var(--fill-color);\n",
              "    }\n",
              "  }\n",
              "</style>\n",
              "\n",
              "  <script>\n",
              "    async function quickchart(key) {\n",
              "      const quickchartButtonEl =\n",
              "        document.querySelector('#' + key + ' button');\n",
              "      quickchartButtonEl.disabled = true;  // To prevent multiple clicks.\n",
              "      quickchartButtonEl.classList.add('colab-df-spinner');\n",
              "      try {\n",
              "        const charts = await google.colab.kernel.invokeFunction(\n",
              "            'suggestCharts', [key], {});\n",
              "      } catch (error) {\n",
              "        console.error('Error during call to suggestCharts:', error);\n",
              "      }\n",
              "      quickchartButtonEl.classList.remove('colab-df-spinner');\n",
              "      quickchartButtonEl.classList.add('colab-df-quickchart-complete');\n",
              "    }\n",
              "    (() => {\n",
              "      let quickchartButtonEl =\n",
              "        document.querySelector('#df-34730b26-c2b9-4c5b-a1c4-4a2c7812897e button');\n",
              "      quickchartButtonEl.style.display =\n",
              "        google.colab.kernel.accessAllowed ? 'block' : 'none';\n",
              "    })();\n",
              "  </script>\n",
              "</div>\n",
              "\n",
              "    </div>\n",
              "  </div>\n"
            ],
            "text/plain": [
              "     CustomerID  Gender  Age  Annual Income (k$)  Spending Score (1-100)\n",
              "110         111    Male   65                  63                      52\n",
              "163         164  Female   31                  81                      93\n",
              "134         135    Male   20                  73                       5\n",
              "130         131    Male   47                  71                       9\n",
              "56           57  Female   51                  44                      50"
            ]
          },
          "execution_count": 3,
          "metadata": {},
          "output_type": "execute_result"
        }
      ],
      "source": [
        "customer_df.sample(5)"
      ]
    },
    {
      "cell_type": "markdown",
      "metadata": {
        "id": "_T2pXsGE6xxi"
      },
      "source": [
        "Extarcting Required Features from DataFrame"
      ]
    },
    {
      "cell_type": "code",
      "execution_count": 4,
      "metadata": {
        "id": "kUDu3fpX6xiQ"
      },
      "outputs": [],
      "source": [
        "customer_df.drop(columns=['CustomerID','Gender'],inplace=True)"
      ]
    },
    {
      "cell_type": "markdown",
      "metadata": {
        "id": "JJkQ2gGt7SG5"
      },
      "source": [
        "Displaying New Dataframe"
      ]
    },
    {
      "cell_type": "code",
      "execution_count": 5,
      "metadata": {
        "colab": {
          "base_uri": "https://localhost:8080/",
          "height": 206
        },
        "id": "qrte_XtZ6Sah",
        "outputId": "b2b10aa4-0e3e-4428-e184-5fa37644119d"
      },
      "outputs": [
        {
          "data": {
            "text/html": [
              "<div>\n",
              "<style scoped>\n",
              "    .dataframe tbody tr th:only-of-type {\n",
              "        vertical-align: middle;\n",
              "    }\n",
              "\n",
              "    .dataframe tbody tr th {\n",
              "        vertical-align: top;\n",
              "    }\n",
              "\n",
              "    .dataframe thead th {\n",
              "        text-align: right;\n",
              "    }\n",
              "</style>\n",
              "<table border=\"1\" class=\"dataframe\">\n",
              "  <thead>\n",
              "    <tr style=\"text-align: right;\">\n",
              "      <th></th>\n",
              "      <th>Age</th>\n",
              "      <th>Annual Income (k$)</th>\n",
              "      <th>Spending Score (1-100)</th>\n",
              "    </tr>\n",
              "  </thead>\n",
              "  <tbody>\n",
              "    <tr>\n",
              "      <th>30</th>\n",
              "      <td>60</td>\n",
              "      <td>30</td>\n",
              "      <td>4</td>\n",
              "    </tr>\n",
              "    <tr>\n",
              "      <th>167</th>\n",
              "      <td>33</td>\n",
              "      <td>86</td>\n",
              "      <td>95</td>\n",
              "    </tr>\n",
              "    <tr>\n",
              "      <th>165</th>\n",
              "      <td>36</td>\n",
              "      <td>85</td>\n",
              "      <td>75</td>\n",
              "    </tr>\n",
              "    <tr>\n",
              "      <th>3</th>\n",
              "      <td>23</td>\n",
              "      <td>16</td>\n",
              "      <td>77</td>\n",
              "    </tr>\n",
              "    <tr>\n",
              "      <th>128</th>\n",
              "      <td>59</td>\n",
              "      <td>71</td>\n",
              "      <td>11</td>\n",
              "    </tr>\n",
              "  </tbody>\n",
              "</table>\n",
              "</div>"
            ],
            "text/plain": [
              "     Age  Annual Income (k$)  Spending Score (1-100)\n",
              "30    60                  30                       4\n",
              "167   33                  86                      95\n",
              "165   36                  85                      75\n",
              "3     23                  16                      77\n",
              "128   59                  71                      11"
            ]
          },
          "execution_count": 5,
          "metadata": {},
          "output_type": "execute_result"
        }
      ],
      "source": [
        "customer_df.sample(5)"
      ]
    },
    {
      "cell_type": "markdown",
      "metadata": {
        "id": "NwCQzd1Y7ggT"
      },
      "source": [
        "visualising Our Data"
      ]
    },
    {
      "cell_type": "code",
      "execution_count": 6,
      "metadata": {
        "colab": {
          "base_uri": "https://localhost:8080/",
          "height": 542
        },
        "id": "6qWAYMLi7Xy8",
        "outputId": "58a63a16-016a-4b8e-e98d-00dfad603496"
      },
      "outputs": [
        {
          "data": {
            "application/vnd.plotly.v1+json": {
              "config": {
                "plotlyServerURL": "https://plot.ly"
              },
              "data": [
                {
                  "hovertemplate": "Age=%{x}<br>Annual Income (k$)=%{y}<br>Spending Score (1-100)=%{marker.color}<extra></extra>",
                  "legendgroup": "",
                  "marker": {
                    "color": [
                      39,
                      81,
                      6,
                      77,
                      40,
                      76,
                      6,
                      94,
                      3,
                      72,
                      14,
                      99,
                      15,
                      77,
                      13,
                      79,
                      35,
                      66,
                      29,
                      98,
                      35,
                      73,
                      5,
                      73,
                      14,
                      82,
                      32,
                      61,
                      31,
                      87,
                      4,
                      73,
                      4,
                      92,
                      14,
                      81,
                      17,
                      73,
                      26,
                      75,
                      35,
                      92,
                      36,
                      61,
                      28,
                      65,
                      55,
                      47,
                      42,
                      42,
                      52,
                      60,
                      54,
                      60,
                      45,
                      41,
                      50,
                      46,
                      51,
                      46,
                      56,
                      55,
                      52,
                      59,
                      51,
                      59,
                      50,
                      48,
                      59,
                      47,
                      55,
                      42,
                      49,
                      56,
                      47,
                      54,
                      53,
                      48,
                      52,
                      42,
                      51,
                      55,
                      41,
                      44,
                      57,
                      46,
                      58,
                      55,
                      60,
                      46,
                      55,
                      41,
                      49,
                      40,
                      42,
                      52,
                      47,
                      50,
                      42,
                      49,
                      41,
                      48,
                      59,
                      55,
                      56,
                      42,
                      50,
                      46,
                      43,
                      48,
                      52,
                      54,
                      42,
                      46,
                      48,
                      50,
                      43,
                      59,
                      43,
                      57,
                      56,
                      40,
                      58,
                      91,
                      29,
                      77,
                      35,
                      95,
                      11,
                      75,
                      9,
                      75,
                      34,
                      71,
                      5,
                      88,
                      7,
                      73,
                      10,
                      72,
                      5,
                      93,
                      40,
                      87,
                      12,
                      97,
                      36,
                      74,
                      22,
                      90,
                      17,
                      88,
                      20,
                      76,
                      16,
                      89,
                      1,
                      78,
                      1,
                      73,
                      35,
                      83,
                      5,
                      93,
                      26,
                      75,
                      20,
                      95,
                      27,
                      63,
                      13,
                      75,
                      10,
                      92,
                      13,
                      86,
                      15,
                      69,
                      14,
                      90,
                      32,
                      86,
                      15,
                      88,
                      39,
                      97,
                      24,
                      68,
                      17,
                      85,
                      23,
                      69,
                      8,
                      91,
                      16,
                      79,
                      28,
                      74,
                      18,
                      83
                    ],
                    "coloraxis": "coloraxis",
                    "symbol": "circle"
                  },
                  "mode": "markers",
                  "name": "",
                  "scene": "scene",
                  "showlegend": false,
                  "type": "scatter3d",
                  "x": [
                    19,
                    21,
                    20,
                    23,
                    31,
                    22,
                    35,
                    23,
                    64,
                    30,
                    67,
                    35,
                    58,
                    24,
                    37,
                    22,
                    35,
                    20,
                    52,
                    35,
                    35,
                    25,
                    46,
                    31,
                    54,
                    29,
                    45,
                    35,
                    40,
                    23,
                    60,
                    21,
                    53,
                    18,
                    49,
                    21,
                    42,
                    30,
                    36,
                    20,
                    65,
                    24,
                    48,
                    31,
                    49,
                    24,
                    50,
                    27,
                    29,
                    31,
                    49,
                    33,
                    31,
                    59,
                    50,
                    47,
                    51,
                    69,
                    27,
                    53,
                    70,
                    19,
                    67,
                    54,
                    63,
                    18,
                    43,
                    68,
                    19,
                    32,
                    70,
                    47,
                    60,
                    60,
                    59,
                    26,
                    45,
                    40,
                    23,
                    49,
                    57,
                    38,
                    67,
                    46,
                    21,
                    48,
                    55,
                    22,
                    34,
                    50,
                    68,
                    18,
                    48,
                    40,
                    32,
                    24,
                    47,
                    27,
                    48,
                    20,
                    23,
                    49,
                    67,
                    26,
                    49,
                    21,
                    66,
                    54,
                    68,
                    66,
                    65,
                    19,
                    38,
                    19,
                    18,
                    19,
                    63,
                    49,
                    51,
                    50,
                    27,
                    38,
                    40,
                    39,
                    23,
                    31,
                    43,
                    40,
                    59,
                    38,
                    47,
                    39,
                    25,
                    31,
                    20,
                    29,
                    44,
                    32,
                    19,
                    35,
                    57,
                    32,
                    28,
                    32,
                    25,
                    28,
                    48,
                    32,
                    34,
                    34,
                    43,
                    39,
                    44,
                    38,
                    47,
                    27,
                    37,
                    30,
                    34,
                    30,
                    56,
                    29,
                    19,
                    31,
                    50,
                    36,
                    42,
                    33,
                    36,
                    32,
                    40,
                    28,
                    36,
                    36,
                    52,
                    30,
                    58,
                    27,
                    59,
                    35,
                    37,
                    32,
                    46,
                    29,
                    41,
                    30,
                    54,
                    28,
                    41,
                    36,
                    34,
                    32,
                    33,
                    38,
                    47,
                    35,
                    45,
                    32,
                    32,
                    30
                  ],
                  "y": [
                    15,
                    15,
                    16,
                    16,
                    17,
                    17,
                    18,
                    18,
                    19,
                    19,
                    19,
                    19,
                    20,
                    20,
                    20,
                    20,
                    21,
                    21,
                    23,
                    23,
                    24,
                    24,
                    25,
                    25,
                    28,
                    28,
                    28,
                    28,
                    29,
                    29,
                    30,
                    30,
                    33,
                    33,
                    33,
                    33,
                    34,
                    34,
                    37,
                    37,
                    38,
                    38,
                    39,
                    39,
                    39,
                    39,
                    40,
                    40,
                    40,
                    40,
                    42,
                    42,
                    43,
                    43,
                    43,
                    43,
                    44,
                    44,
                    46,
                    46,
                    46,
                    46,
                    47,
                    47,
                    48,
                    48,
                    48,
                    48,
                    48,
                    48,
                    49,
                    49,
                    50,
                    50,
                    54,
                    54,
                    54,
                    54,
                    54,
                    54,
                    54,
                    54,
                    54,
                    54,
                    54,
                    54,
                    57,
                    57,
                    58,
                    58,
                    59,
                    59,
                    60,
                    60,
                    60,
                    60,
                    60,
                    60,
                    61,
                    61,
                    62,
                    62,
                    62,
                    62,
                    62,
                    62,
                    63,
                    63,
                    63,
                    63,
                    63,
                    63,
                    64,
                    64,
                    65,
                    65,
                    65,
                    65,
                    67,
                    67,
                    67,
                    67,
                    69,
                    69,
                    70,
                    70,
                    71,
                    71,
                    71,
                    71,
                    71,
                    71,
                    72,
                    72,
                    73,
                    73,
                    73,
                    73,
                    74,
                    74,
                    75,
                    75,
                    76,
                    76,
                    77,
                    77,
                    77,
                    77,
                    78,
                    78,
                    78,
                    78,
                    78,
                    78,
                    78,
                    78,
                    78,
                    78,
                    78,
                    78,
                    79,
                    79,
                    81,
                    81,
                    85,
                    85,
                    86,
                    86,
                    87,
                    87,
                    87,
                    87,
                    87,
                    87,
                    88,
                    88,
                    88,
                    88,
                    93,
                    93,
                    97,
                    97,
                    98,
                    98,
                    99,
                    99,
                    101,
                    101,
                    103,
                    103,
                    103,
                    103,
                    113,
                    113,
                    120,
                    120,
                    126,
                    126,
                    137,
                    137
                  ],
                  "z": [
                    39,
                    81,
                    6,
                    77,
                    40,
                    76,
                    6,
                    94,
                    3,
                    72,
                    14,
                    99,
                    15,
                    77,
                    13,
                    79,
                    35,
                    66,
                    29,
                    98,
                    35,
                    73,
                    5,
                    73,
                    14,
                    82,
                    32,
                    61,
                    31,
                    87,
                    4,
                    73,
                    4,
                    92,
                    14,
                    81,
                    17,
                    73,
                    26,
                    75,
                    35,
                    92,
                    36,
                    61,
                    28,
                    65,
                    55,
                    47,
                    42,
                    42,
                    52,
                    60,
                    54,
                    60,
                    45,
                    41,
                    50,
                    46,
                    51,
                    46,
                    56,
                    55,
                    52,
                    59,
                    51,
                    59,
                    50,
                    48,
                    59,
                    47,
                    55,
                    42,
                    49,
                    56,
                    47,
                    54,
                    53,
                    48,
                    52,
                    42,
                    51,
                    55,
                    41,
                    44,
                    57,
                    46,
                    58,
                    55,
                    60,
                    46,
                    55,
                    41,
                    49,
                    40,
                    42,
                    52,
                    47,
                    50,
                    42,
                    49,
                    41,
                    48,
                    59,
                    55,
                    56,
                    42,
                    50,
                    46,
                    43,
                    48,
                    52,
                    54,
                    42,
                    46,
                    48,
                    50,
                    43,
                    59,
                    43,
                    57,
                    56,
                    40,
                    58,
                    91,
                    29,
                    77,
                    35,
                    95,
                    11,
                    75,
                    9,
                    75,
                    34,
                    71,
                    5,
                    88,
                    7,
                    73,
                    10,
                    72,
                    5,
                    93,
                    40,
                    87,
                    12,
                    97,
                    36,
                    74,
                    22,
                    90,
                    17,
                    88,
                    20,
                    76,
                    16,
                    89,
                    1,
                    78,
                    1,
                    73,
                    35,
                    83,
                    5,
                    93,
                    26,
                    75,
                    20,
                    95,
                    27,
                    63,
                    13,
                    75,
                    10,
                    92,
                    13,
                    86,
                    15,
                    69,
                    14,
                    90,
                    32,
                    86,
                    15,
                    88,
                    39,
                    97,
                    24,
                    68,
                    17,
                    85,
                    23,
                    69,
                    8,
                    91,
                    16,
                    79,
                    28,
                    74,
                    18,
                    83
                  ]
                }
              ],
              "layout": {
                "coloraxis": {
                  "colorbar": {
                    "title": {
                      "text": "Spending Score (1-100)"
                    }
                  },
                  "colorscale": [
                    [
                      0,
                      "#0d0887"
                    ],
                    [
                      0.1111111111111111,
                      "#46039f"
                    ],
                    [
                      0.2222222222222222,
                      "#7201a8"
                    ],
                    [
                      0.3333333333333333,
                      "#9c179e"
                    ],
                    [
                      0.4444444444444444,
                      "#bd3786"
                    ],
                    [
                      0.5555555555555556,
                      "#d8576b"
                    ],
                    [
                      0.6666666666666666,
                      "#ed7953"
                    ],
                    [
                      0.7777777777777778,
                      "#fb9f3a"
                    ],
                    [
                      0.8888888888888888,
                      "#fdca26"
                    ],
                    [
                      1,
                      "#f0f921"
                    ]
                  ]
                },
                "legend": {
                  "tracegroupgap": 0
                },
                "margin": {
                  "t": 60
                },
                "scene": {
                  "domain": {
                    "x": [
                      0,
                      1
                    ],
                    "y": [
                      0,
                      1
                    ]
                  },
                  "xaxis": {
                    "title": {
                      "text": "Age"
                    }
                  },
                  "yaxis": {
                    "title": {
                      "text": "Annual Income (k$)"
                    }
                  },
                  "zaxis": {
                    "title": {
                      "text": "Spending Score (1-100)"
                    }
                  }
                },
                "template": {
                  "data": {
                    "bar": [
                      {
                        "error_x": {
                          "color": "#2a3f5f"
                        },
                        "error_y": {
                          "color": "#2a3f5f"
                        },
                        "marker": {
                          "line": {
                            "color": "#E5ECF6",
                            "width": 0.5
                          },
                          "pattern": {
                            "fillmode": "overlay",
                            "size": 10,
                            "solidity": 0.2
                          }
                        },
                        "type": "bar"
                      }
                    ],
                    "barpolar": [
                      {
                        "marker": {
                          "line": {
                            "color": "#E5ECF6",
                            "width": 0.5
                          },
                          "pattern": {
                            "fillmode": "overlay",
                            "size": 10,
                            "solidity": 0.2
                          }
                        },
                        "type": "barpolar"
                      }
                    ],
                    "carpet": [
                      {
                        "aaxis": {
                          "endlinecolor": "#2a3f5f",
                          "gridcolor": "white",
                          "linecolor": "white",
                          "minorgridcolor": "white",
                          "startlinecolor": "#2a3f5f"
                        },
                        "baxis": {
                          "endlinecolor": "#2a3f5f",
                          "gridcolor": "white",
                          "linecolor": "white",
                          "minorgridcolor": "white",
                          "startlinecolor": "#2a3f5f"
                        },
                        "type": "carpet"
                      }
                    ],
                    "choropleth": [
                      {
                        "colorbar": {
                          "outlinewidth": 0,
                          "ticks": ""
                        },
                        "type": "choropleth"
                      }
                    ],
                    "contour": [
                      {
                        "colorbar": {
                          "outlinewidth": 0,
                          "ticks": ""
                        },
                        "colorscale": [
                          [
                            0,
                            "#0d0887"
                          ],
                          [
                            0.1111111111111111,
                            "#46039f"
                          ],
                          [
                            0.2222222222222222,
                            "#7201a8"
                          ],
                          [
                            0.3333333333333333,
                            "#9c179e"
                          ],
                          [
                            0.4444444444444444,
                            "#bd3786"
                          ],
                          [
                            0.5555555555555556,
                            "#d8576b"
                          ],
                          [
                            0.6666666666666666,
                            "#ed7953"
                          ],
                          [
                            0.7777777777777778,
                            "#fb9f3a"
                          ],
                          [
                            0.8888888888888888,
                            "#fdca26"
                          ],
                          [
                            1,
                            "#f0f921"
                          ]
                        ],
                        "type": "contour"
                      }
                    ],
                    "contourcarpet": [
                      {
                        "colorbar": {
                          "outlinewidth": 0,
                          "ticks": ""
                        },
                        "type": "contourcarpet"
                      }
                    ],
                    "heatmap": [
                      {
                        "colorbar": {
                          "outlinewidth": 0,
                          "ticks": ""
                        },
                        "colorscale": [
                          [
                            0,
                            "#0d0887"
                          ],
                          [
                            0.1111111111111111,
                            "#46039f"
                          ],
                          [
                            0.2222222222222222,
                            "#7201a8"
                          ],
                          [
                            0.3333333333333333,
                            "#9c179e"
                          ],
                          [
                            0.4444444444444444,
                            "#bd3786"
                          ],
                          [
                            0.5555555555555556,
                            "#d8576b"
                          ],
                          [
                            0.6666666666666666,
                            "#ed7953"
                          ],
                          [
                            0.7777777777777778,
                            "#fb9f3a"
                          ],
                          [
                            0.8888888888888888,
                            "#fdca26"
                          ],
                          [
                            1,
                            "#f0f921"
                          ]
                        ],
                        "type": "heatmap"
                      }
                    ],
                    "heatmapgl": [
                      {
                        "colorbar": {
                          "outlinewidth": 0,
                          "ticks": ""
                        },
                        "colorscale": [
                          [
                            0,
                            "#0d0887"
                          ],
                          [
                            0.1111111111111111,
                            "#46039f"
                          ],
                          [
                            0.2222222222222222,
                            "#7201a8"
                          ],
                          [
                            0.3333333333333333,
                            "#9c179e"
                          ],
                          [
                            0.4444444444444444,
                            "#bd3786"
                          ],
                          [
                            0.5555555555555556,
                            "#d8576b"
                          ],
                          [
                            0.6666666666666666,
                            "#ed7953"
                          ],
                          [
                            0.7777777777777778,
                            "#fb9f3a"
                          ],
                          [
                            0.8888888888888888,
                            "#fdca26"
                          ],
                          [
                            1,
                            "#f0f921"
                          ]
                        ],
                        "type": "heatmapgl"
                      }
                    ],
                    "histogram": [
                      {
                        "marker": {
                          "pattern": {
                            "fillmode": "overlay",
                            "size": 10,
                            "solidity": 0.2
                          }
                        },
                        "type": "histogram"
                      }
                    ],
                    "histogram2d": [
                      {
                        "colorbar": {
                          "outlinewidth": 0,
                          "ticks": ""
                        },
                        "colorscale": [
                          [
                            0,
                            "#0d0887"
                          ],
                          [
                            0.1111111111111111,
                            "#46039f"
                          ],
                          [
                            0.2222222222222222,
                            "#7201a8"
                          ],
                          [
                            0.3333333333333333,
                            "#9c179e"
                          ],
                          [
                            0.4444444444444444,
                            "#bd3786"
                          ],
                          [
                            0.5555555555555556,
                            "#d8576b"
                          ],
                          [
                            0.6666666666666666,
                            "#ed7953"
                          ],
                          [
                            0.7777777777777778,
                            "#fb9f3a"
                          ],
                          [
                            0.8888888888888888,
                            "#fdca26"
                          ],
                          [
                            1,
                            "#f0f921"
                          ]
                        ],
                        "type": "histogram2d"
                      }
                    ],
                    "histogram2dcontour": [
                      {
                        "colorbar": {
                          "outlinewidth": 0,
                          "ticks": ""
                        },
                        "colorscale": [
                          [
                            0,
                            "#0d0887"
                          ],
                          [
                            0.1111111111111111,
                            "#46039f"
                          ],
                          [
                            0.2222222222222222,
                            "#7201a8"
                          ],
                          [
                            0.3333333333333333,
                            "#9c179e"
                          ],
                          [
                            0.4444444444444444,
                            "#bd3786"
                          ],
                          [
                            0.5555555555555556,
                            "#d8576b"
                          ],
                          [
                            0.6666666666666666,
                            "#ed7953"
                          ],
                          [
                            0.7777777777777778,
                            "#fb9f3a"
                          ],
                          [
                            0.8888888888888888,
                            "#fdca26"
                          ],
                          [
                            1,
                            "#f0f921"
                          ]
                        ],
                        "type": "histogram2dcontour"
                      }
                    ],
                    "mesh3d": [
                      {
                        "colorbar": {
                          "outlinewidth": 0,
                          "ticks": ""
                        },
                        "type": "mesh3d"
                      }
                    ],
                    "parcoords": [
                      {
                        "line": {
                          "colorbar": {
                            "outlinewidth": 0,
                            "ticks": ""
                          }
                        },
                        "type": "parcoords"
                      }
                    ],
                    "pie": [
                      {
                        "automargin": true,
                        "type": "pie"
                      }
                    ],
                    "scatter": [
                      {
                        "fillpattern": {
                          "fillmode": "overlay",
                          "size": 10,
                          "solidity": 0.2
                        },
                        "type": "scatter"
                      }
                    ],
                    "scatter3d": [
                      {
                        "line": {
                          "colorbar": {
                            "outlinewidth": 0,
                            "ticks": ""
                          }
                        },
                        "marker": {
                          "colorbar": {
                            "outlinewidth": 0,
                            "ticks": ""
                          }
                        },
                        "type": "scatter3d"
                      }
                    ],
                    "scattercarpet": [
                      {
                        "marker": {
                          "colorbar": {
                            "outlinewidth": 0,
                            "ticks": ""
                          }
                        },
                        "type": "scattercarpet"
                      }
                    ],
                    "scattergeo": [
                      {
                        "marker": {
                          "colorbar": {
                            "outlinewidth": 0,
                            "ticks": ""
                          }
                        },
                        "type": "scattergeo"
                      }
                    ],
                    "scattergl": [
                      {
                        "marker": {
                          "colorbar": {
                            "outlinewidth": 0,
                            "ticks": ""
                          }
                        },
                        "type": "scattergl"
                      }
                    ],
                    "scattermapbox": [
                      {
                        "marker": {
                          "colorbar": {
                            "outlinewidth": 0,
                            "ticks": ""
                          }
                        },
                        "type": "scattermapbox"
                      }
                    ],
                    "scatterpolar": [
                      {
                        "marker": {
                          "colorbar": {
                            "outlinewidth": 0,
                            "ticks": ""
                          }
                        },
                        "type": "scatterpolar"
                      }
                    ],
                    "scatterpolargl": [
                      {
                        "marker": {
                          "colorbar": {
                            "outlinewidth": 0,
                            "ticks": ""
                          }
                        },
                        "type": "scatterpolargl"
                      }
                    ],
                    "scatterternary": [
                      {
                        "marker": {
                          "colorbar": {
                            "outlinewidth": 0,
                            "ticks": ""
                          }
                        },
                        "type": "scatterternary"
                      }
                    ],
                    "surface": [
                      {
                        "colorbar": {
                          "outlinewidth": 0,
                          "ticks": ""
                        },
                        "colorscale": [
                          [
                            0,
                            "#0d0887"
                          ],
                          [
                            0.1111111111111111,
                            "#46039f"
                          ],
                          [
                            0.2222222222222222,
                            "#7201a8"
                          ],
                          [
                            0.3333333333333333,
                            "#9c179e"
                          ],
                          [
                            0.4444444444444444,
                            "#bd3786"
                          ],
                          [
                            0.5555555555555556,
                            "#d8576b"
                          ],
                          [
                            0.6666666666666666,
                            "#ed7953"
                          ],
                          [
                            0.7777777777777778,
                            "#fb9f3a"
                          ],
                          [
                            0.8888888888888888,
                            "#fdca26"
                          ],
                          [
                            1,
                            "#f0f921"
                          ]
                        ],
                        "type": "surface"
                      }
                    ],
                    "table": [
                      {
                        "cells": {
                          "fill": {
                            "color": "#EBF0F8"
                          },
                          "line": {
                            "color": "white"
                          }
                        },
                        "header": {
                          "fill": {
                            "color": "#C8D4E3"
                          },
                          "line": {
                            "color": "white"
                          }
                        },
                        "type": "table"
                      }
                    ]
                  },
                  "layout": {
                    "annotationdefaults": {
                      "arrowcolor": "#2a3f5f",
                      "arrowhead": 0,
                      "arrowwidth": 1
                    },
                    "autotypenumbers": "strict",
                    "coloraxis": {
                      "colorbar": {
                        "outlinewidth": 0,
                        "ticks": ""
                      }
                    },
                    "colorscale": {
                      "diverging": [
                        [
                          0,
                          "#8e0152"
                        ],
                        [
                          0.1,
                          "#c51b7d"
                        ],
                        [
                          0.2,
                          "#de77ae"
                        ],
                        [
                          0.3,
                          "#f1b6da"
                        ],
                        [
                          0.4,
                          "#fde0ef"
                        ],
                        [
                          0.5,
                          "#f7f7f7"
                        ],
                        [
                          0.6,
                          "#e6f5d0"
                        ],
                        [
                          0.7,
                          "#b8e186"
                        ],
                        [
                          0.8,
                          "#7fbc41"
                        ],
                        [
                          0.9,
                          "#4d9221"
                        ],
                        [
                          1,
                          "#276419"
                        ]
                      ],
                      "sequential": [
                        [
                          0,
                          "#0d0887"
                        ],
                        [
                          0.1111111111111111,
                          "#46039f"
                        ],
                        [
                          0.2222222222222222,
                          "#7201a8"
                        ],
                        [
                          0.3333333333333333,
                          "#9c179e"
                        ],
                        [
                          0.4444444444444444,
                          "#bd3786"
                        ],
                        [
                          0.5555555555555556,
                          "#d8576b"
                        ],
                        [
                          0.6666666666666666,
                          "#ed7953"
                        ],
                        [
                          0.7777777777777778,
                          "#fb9f3a"
                        ],
                        [
                          0.8888888888888888,
                          "#fdca26"
                        ],
                        [
                          1,
                          "#f0f921"
                        ]
                      ],
                      "sequentialminus": [
                        [
                          0,
                          "#0d0887"
                        ],
                        [
                          0.1111111111111111,
                          "#46039f"
                        ],
                        [
                          0.2222222222222222,
                          "#7201a8"
                        ],
                        [
                          0.3333333333333333,
                          "#9c179e"
                        ],
                        [
                          0.4444444444444444,
                          "#bd3786"
                        ],
                        [
                          0.5555555555555556,
                          "#d8576b"
                        ],
                        [
                          0.6666666666666666,
                          "#ed7953"
                        ],
                        [
                          0.7777777777777778,
                          "#fb9f3a"
                        ],
                        [
                          0.8888888888888888,
                          "#fdca26"
                        ],
                        [
                          1,
                          "#f0f921"
                        ]
                      ]
                    },
                    "colorway": [
                      "#636efa",
                      "#EF553B",
                      "#00cc96",
                      "#ab63fa",
                      "#FFA15A",
                      "#19d3f3",
                      "#FF6692",
                      "#B6E880",
                      "#FF97FF",
                      "#FECB52"
                    ],
                    "font": {
                      "color": "#2a3f5f"
                    },
                    "geo": {
                      "bgcolor": "white",
                      "lakecolor": "white",
                      "landcolor": "#E5ECF6",
                      "showlakes": true,
                      "showland": true,
                      "subunitcolor": "white"
                    },
                    "hoverlabel": {
                      "align": "left"
                    },
                    "hovermode": "closest",
                    "mapbox": {
                      "style": "light"
                    },
                    "paper_bgcolor": "white",
                    "plot_bgcolor": "#E5ECF6",
                    "polar": {
                      "angularaxis": {
                        "gridcolor": "white",
                        "linecolor": "white",
                        "ticks": ""
                      },
                      "bgcolor": "#E5ECF6",
                      "radialaxis": {
                        "gridcolor": "white",
                        "linecolor": "white",
                        "ticks": ""
                      }
                    },
                    "scene": {
                      "xaxis": {
                        "backgroundcolor": "#E5ECF6",
                        "gridcolor": "white",
                        "gridwidth": 2,
                        "linecolor": "white",
                        "showbackground": true,
                        "ticks": "",
                        "zerolinecolor": "white"
                      },
                      "yaxis": {
                        "backgroundcolor": "#E5ECF6",
                        "gridcolor": "white",
                        "gridwidth": 2,
                        "linecolor": "white",
                        "showbackground": true,
                        "ticks": "",
                        "zerolinecolor": "white"
                      },
                      "zaxis": {
                        "backgroundcolor": "#E5ECF6",
                        "gridcolor": "white",
                        "gridwidth": 2,
                        "linecolor": "white",
                        "showbackground": true,
                        "ticks": "",
                        "zerolinecolor": "white"
                      }
                    },
                    "shapedefaults": {
                      "line": {
                        "color": "#2a3f5f"
                      }
                    },
                    "ternary": {
                      "aaxis": {
                        "gridcolor": "white",
                        "linecolor": "white",
                        "ticks": ""
                      },
                      "baxis": {
                        "gridcolor": "white",
                        "linecolor": "white",
                        "ticks": ""
                      },
                      "bgcolor": "#E5ECF6",
                      "caxis": {
                        "gridcolor": "white",
                        "linecolor": "white",
                        "ticks": ""
                      }
                    },
                    "title": {
                      "x": 0.05
                    },
                    "xaxis": {
                      "automargin": true,
                      "gridcolor": "white",
                      "linecolor": "white",
                      "ticks": "",
                      "title": {
                        "standoff": 15
                      },
                      "zerolinecolor": "white",
                      "zerolinewidth": 2
                    },
                    "yaxis": {
                      "automargin": true,
                      "gridcolor": "white",
                      "linecolor": "white",
                      "ticks": "",
                      "title": {
                        "standoff": 15
                      },
                      "zerolinecolor": "white",
                      "zerolinewidth": 2
                    }
                  }
                }
              }
            }
          },
          "metadata": {},
          "output_type": "display_data"
        }
      ],
      "source": [
        "fig= xp.scatter_3d(customer_df,x='Age',y='Annual Income (k$)',z='Spending Score (1-100)',color='Spending Score (1-100)')\n",
        "fig.show()\n"
      ]
    },
    {
      "cell_type": "markdown",
      "metadata": {
        "id": "UFoIrLT48lzG"
      },
      "source": [
        "Finding Optimal Number of Clusters using Elbow point meathod"
      ]
    },
    {
      "cell_type": "code",
      "execution_count": 7,
      "metadata": {
        "colab": {
          "base_uri": "https://localhost:8080/"
        },
        "id": "LTnw7b558SCR",
        "outputId": "a9400066-8b0c-42d1-aa19-985b30f39f0e"
      },
      "outputs": [],
      "source": [
        "wcss = [] #wcss ---> within cluster squared sum\n",
        "for i in range(1,11):\n",
        "  kmeans = KMeans(n_clusters=i,init='k-means++',random_state=42)\n",
        "  kmeans.fit_transform(customer_df)\n",
        "  wcss.append(kmeans.inertia_)"
      ]
    },
    {
      "cell_type": "code",
      "execution_count": 8,
      "metadata": {
        "colab": {
          "base_uri": "https://localhost:8080/"
        },
        "id": "CyOzmozg9kV5",
        "outputId": "2f5284e2-db12-4a1d-8de9-65ae272b790e"
      },
      "outputs": [
        {
          "data": {
            "text/plain": [
              "[308812.78,\n",
              " 221087.19627192977,\n",
              " 158744.9710801394,\n",
              " 104366.15145556198,\n",
              " 97211.84353980479,\n",
              " 68275.94428646986,\n",
              " 51448.36126259324,\n",
              " 44640.02804853041,\n",
              " 42081.855308685306,\n",
              " 38378.73890793208]"
            ]
          },
          "execution_count": 8,
          "metadata": {},
          "output_type": "execute_result"
        }
      ],
      "source": [
        "wcss # these are the squared sum of different cluster points within a cluster"
      ]
    },
    {
      "cell_type": "markdown",
      "metadata": {
        "id": "zTjdif4g9726"
      },
      "source": [
        "Plotting a Elbow curve to find out optimum Number of Clusters"
      ]
    },
    {
      "cell_type": "code",
      "execution_count": 12,
      "metadata": {
        "colab": {
          "base_uri": "https://localhost:8080/",
          "height": 497
        },
        "id": "9RFjw2GQ9o95",
        "outputId": "af57da59-28a0-4635-e8ac-1be9e8e1d087"
      },
      "outputs": [
        {
          "name": "stderr",
          "output_type": "stream",
          "text": [
            "No artists with labels found to put in legend.  Note that artists whose label start with an underscore are ignored when legend() is called with no argument.\n"
          ]
        },
        {
          "data": {
            "image/png": "[encoded data removed]",
            "text/plain": [
              "<Figure size 640x480 with 1 Axes>"
            ]
          },
          "metadata": {},
          "output_type": "display_data"
        }
      ],
      "source": [
        "import seaborn as sns\n",
        "import matplotlib.pyplot as plt\n",
        "sns.set()\n",
        "plt.plot(range(1,11),wcss)\n",
        "plt.title('Elbow Point Graph')\n",
        "plt.xlabel('No. of Clusters')\n",
        "plt.ylabel('WCSS')\n",
        "plt.legend()\n",
        "plt.show()"
      ]
    },
    {
      "cell_type": "code",
      "execution_count": 13,
      "metadata": {
        "id": "SIq-WOHG-cAd"
      },
      "outputs": [],
      "source": [
        "# We Can Select optimum number of Clusters as 6 since, after that no significant descend are observed"
      ]
    },
    {
      "cell_type": "markdown",
      "metadata": {
        "id": "jOgJ3ObR_A9y"
      },
      "source": [
        "Traning Algoritham with 5 number of clusters"
      ]
    },
    {
      "cell_type": "code",
      "execution_count": 14,
      "metadata": {
        "colab": {
          "base_uri": "https://localhost:8080/"
        },
        "id": "EgYpwCaZ-_dG",
        "outputId": "b842b637-796b-4416-ce9b-0687a1f88b06"
      },
      "outputs": [],
      "source": [
        "X = customer_df.values\n",
        "kmeans = KMeans(n_clusters=6,init='k-means++',random_state=42)\n",
        "y_kmeans = kmeans.fit_predict(X)"
      ]
    },
    {
      "cell_type": "code",
      "execution_count": 15,
      "metadata": {
        "colab": {
          "base_uri": "https://localhost:8080/"
        },
        "id": "CzxxZ7CBAbUi",
        "outputId": "0bc4aae7-0fc7-466f-e1e1-a7d7b580c366"
      },
      "outputs": [
        {
          "data": {
            "text/plain": [
              "array([[ 19,  15,  39],\n",
              "       [ 21,  15,  81],\n",
              "       [ 20,  16,   6],\n",
              "       [ 23,  16,  77],\n",
              "       [ 31,  17,  40],\n",
              "       [ 22,  17,  76],\n",
              "       [ 35,  18,   6],\n",
              "       [ 23,  18,  94],\n",
              "       [ 64,  19,   3],\n",
              "       [ 30,  19,  72],\n",
              "       [ 67,  19,  14],\n",
              "       [ 35,  19,  99],\n",
              "       [ 58,  20,  15],\n",
              "       [ 24,  20,  77],\n",
              "       [ 37,  20,  13],\n",
              "       [ 22,  20,  79],\n",
              "       [ 35,  21,  35],\n",
              "       [ 20,  21,  66],\n",
              "       [ 52,  23,  29],\n",
              "       [ 35,  23,  98],\n",
              "       [ 35,  24,  35],\n",
              "       [ 25,  24,  73],\n",
              "       [ 46,  25,   5],\n",
              "       [ 31,  25,  73],\n",
              "       [ 54,  28,  14],\n",
              "       [ 29,  28,  82],\n",
              "       [ 45,  28,  32],\n",
              "       [ 35,  28,  61],\n",
              "       [ 40,  29,  31],\n",
              "       [ 23,  29,  87],\n",
              "       [ 60,  30,   4],\n",
              "       [ 21,  30,  73],\n",
              "       [ 53,  33,   4],\n",
              "       [ 18,  33,  92],\n",
              "       [ 49,  33,  14],\n",
              "       [ 21,  33,  81],\n",
              "       [ 42,  34,  17],\n",
              "       [ 30,  34,  73],\n",
              "       [ 36,  37,  26],\n",
              "       [ 20,  37,  75],\n",
              "       [ 65,  38,  35],\n",
              "       [ 24,  38,  92],\n",
              "       [ 48,  39,  36],\n",
              "       [ 31,  39,  61],\n",
              "       [ 49,  39,  28],\n",
              "       [ 24,  39,  65],\n",
              "       [ 50,  40,  55],\n",
              "       [ 27,  40,  47],\n",
              "       [ 29,  40,  42],\n",
              "       [ 31,  40,  42],\n",
              "       [ 49,  42,  52],\n",
              "       [ 33,  42,  60],\n",
              "       [ 31,  43,  54],\n",
              "       [ 59,  43,  60],\n",
              "       [ 50,  43,  45],\n",
              "       [ 47,  43,  41],\n",
              "       [ 51,  44,  50],\n",
              "       [ 69,  44,  46],\n",
              "       [ 27,  46,  51],\n",
              "       [ 53,  46,  46],\n",
              "       [ 70,  46,  56],\n",
              "       [ 19,  46,  55],\n",
              "       [ 67,  47,  52],\n",
              "       [ 54,  47,  59],\n",
              "       [ 63,  48,  51],\n",
              "       [ 18,  48,  59],\n",
              "       [ 43,  48,  50],\n",
              "       [ 68,  48,  48],\n",
              "       [ 19,  48,  59],\n",
              "       [ 32,  48,  47],\n",
              "       [ 70,  49,  55],\n",
              "       [ 47,  49,  42],\n",
              "       [ 60,  50,  49],\n",
              "       [ 60,  50,  56],\n",
              "       [ 59,  54,  47],\n",
              "       [ 26,  54,  54],\n",
              "       [ 45,  54,  53],\n",
              "       [ 40,  54,  48],\n",
              "       [ 23,  54,  52],\n",
              "       [ 49,  54,  42],\n",
              "       [ 57,  54,  51],\n",
              "       [ 38,  54,  55],\n",
              "       [ 67,  54,  41],\n",
              "       [ 46,  54,  44],\n",
              "       [ 21,  54,  57],\n",
              "       [ 48,  54,  46],\n",
              "       [ 55,  57,  58],\n",
              "       [ 22,  57,  55],\n",
              "       [ 34,  58,  60],\n",
              "       [ 50,  58,  46],\n",
              "       [ 68,  59,  55],\n",
              "       [ 18,  59,  41],\n",
              "       [ 48,  60,  49],\n",
              "       [ 40,  60,  40],\n",
              "       [ 32,  60,  42],\n",
              "       [ 24,  60,  52],\n",
              "       [ 47,  60,  47],\n",
              "       [ 27,  60,  50],\n",
              "       [ 48,  61,  42],\n",
              "       [ 20,  61,  49],\n",
              "       [ 23,  62,  41],\n",
              "       [ 49,  62,  48],\n",
              "       [ 67,  62,  59],\n",
              "       [ 26,  62,  55],\n",
              "       [ 49,  62,  56],\n",
              "       [ 21,  62,  42],\n",
              "       [ 66,  63,  50],\n",
              "       [ 54,  63,  46],\n",
              "       [ 68,  63,  43],\n",
              "       [ 66,  63,  48],\n",
              "       [ 65,  63,  52],\n",
              "       [ 19,  63,  54],\n",
              "       [ 38,  64,  42],\n",
              "       [ 19,  64,  46],\n",
              "       [ 18,  65,  48],\n",
              "       [ 19,  65,  50],\n",
              "       [ 63,  65,  43],\n",
              "       [ 49,  65,  59],\n",
              "       [ 51,  67,  43],\n",
              "       [ 50,  67,  57],\n",
              "       [ 27,  67,  56],\n",
              "       [ 38,  67,  40],\n",
              "       [ 40,  69,  58],\n",
              "       [ 39,  69,  91],\n",
              "       [ 23,  70,  29],\n",
              "       [ 31,  70,  77],\n",
              "       [ 43,  71,  35],\n",
              "       [ 40,  71,  95],\n",
              "       [ 59,  71,  11],\n",
              "       [ 38,  71,  75],\n",
              "       [ 47,  71,   9],\n",
              "       [ 39,  71,  75],\n",
              "       [ 25,  72,  34],\n",
              "       [ 31,  72,  71],\n",
              "       [ 20,  73,   5],\n",
              "       [ 29,  73,  88],\n",
              "       [ 44,  73,   7],\n",
              "       [ 32,  73,  73],\n",
              "       [ 19,  74,  10],\n",
              "       [ 35,  74,  72],\n",
              "       [ 57,  75,   5],\n",
              "       [ 32,  75,  93],\n",
              "       [ 28,  76,  40],\n",
              "       [ 32,  76,  87],\n",
              "       [ 25,  77,  12],\n",
              "       [ 28,  77,  97],\n",
              "       [ 48,  77,  36],\n",
              "       [ 32,  77,  74],\n",
              "       [ 34,  78,  22],\n",
              "       [ 34,  78,  90],\n",
              "       [ 43,  78,  17],\n",
              "       [ 39,  78,  88],\n",
              "       [ 44,  78,  20],\n",
              "       [ 38,  78,  76],\n",
              "       [ 47,  78,  16],\n",
              "       [ 27,  78,  89],\n",
              "       [ 37,  78,   1],\n",
              "       [ 30,  78,  78],\n",
              "       [ 34,  78,   1],\n",
              "       [ 30,  78,  73],\n",
              "       [ 56,  79,  35],\n",
              "       [ 29,  79,  83],\n",
              "       [ 19,  81,   5],\n",
              "       [ 31,  81,  93],\n",
              "       [ 50,  85,  26],\n",
              "       [ 36,  85,  75],\n",
              "       [ 42,  86,  20],\n",
              "       [ 33,  86,  95],\n",
              "       [ 36,  87,  27],\n",
              "       [ 32,  87,  63],\n",
              "       [ 40,  87,  13],\n",
              "       [ 28,  87,  75],\n",
              "       [ 36,  87,  10],\n",
              "       [ 36,  87,  92],\n",
              "       [ 52,  88,  13],\n",
              "       [ 30,  88,  86],\n",
              "       [ 58,  88,  15],\n",
              "       [ 27,  88,  69],\n",
              "       [ 59,  93,  14],\n",
              "       [ 35,  93,  90],\n",
              "       [ 37,  97,  32],\n",
              "       [ 32,  97,  86],\n",
              "       [ 46,  98,  15],\n",
              "       [ 29,  98,  88],\n",
              "       [ 41,  99,  39],\n",
              "       [ 30,  99,  97],\n",
              "       [ 54, 101,  24],\n",
              "       [ 28, 101,  68],\n",
              "       [ 41, 103,  17],\n",
              "       [ 36, 103,  85],\n",
              "       [ 34, 103,  23],\n",
              "       [ 32, 103,  69],\n",
              "       [ 33, 113,   8],\n",
              "       [ 38, 113,  91],\n",
              "       [ 47, 120,  16],\n",
              "       [ 35, 120,  79],\n",
              "       [ 45, 126,  28],\n",
              "       [ 32, 126,  74],\n",
              "       [ 32, 137,  18],\n",
              "       [ 30, 137,  83]], dtype=int64)"
            ]
          },
          "execution_count": 15,
          "metadata": {},
          "output_type": "execute_result"
        }
      ],
      "source": [
        "X #My Dataset"
      ]
    },
    {
      "cell_type": "code",
      "execution_count": 16,
      "metadata": {
        "colab": {
          "base_uri": "https://localhost:8080/"
        },
        "id": "DZtHIyXv_mi3",
        "outputId": "b400e8a9-221e-40d8-9412-269725550546"
      },
      "outputs": [
        {
          "data": {
            "text/plain": [
              "array([5, 2, 5, 2, 5, 2, 5, 2, 5, 2, 5, 2, 5, 2, 5, 2, 5, 2, 5, 2, 5, 2,\n",
              "       5, 2, 5, 2, 5, 2, 5, 2, 5, 2, 5, 2, 5, 2, 5, 2, 5, 2, 5, 2, 5, 2,\n",
              "       5, 2, 0, 0, 0, 0, 0, 0, 0, 0, 0, 0, 0, 0, 0, 0, 0, 0, 0, 0, 0, 2,\n",
              "       0, 0, 2, 0, 0, 0, 0, 0, 0, 0, 0, 0, 0, 0, 0, 0, 0, 0, 0, 0, 0, 0,\n",
              "       0, 0, 0, 0, 0, 0, 0, 0, 0, 0, 0, 0, 0, 0, 0, 0, 0, 0, 0, 0, 0, 0,\n",
              "       0, 0, 0, 0, 0, 0, 0, 0, 0, 0, 0, 0, 0, 4, 3, 4, 0, 4, 3, 4, 3, 4,\n",
              "       3, 4, 3, 4, 3, 4, 3, 4, 3, 4, 3, 4, 3, 4, 3, 4, 3, 4, 3, 4, 3, 4,\n",
              "       3, 4, 3, 4, 3, 4, 3, 4, 3, 4, 3, 4, 3, 4, 3, 4, 3, 4, 3, 4, 3, 4,\n",
              "       3, 4, 3, 4, 3, 1, 3, 1, 3, 1, 3, 1, 3, 1, 3, 1, 3, 1, 3, 1, 3, 1,\n",
              "       3, 1])"
            ]
          },
          "execution_count": 16,
          "metadata": {},
          "output_type": "execute_result"
        }
      ],
      "source": [
        "y_kmeans # Cluster Number on each Datapoint"
      ]
    },
    {
      "cell_type": "markdown",
      "metadata": {
        "id": "9GGJa9mZES4W"
      },
      "source": [
        "Plotting The Resultant Dataset Based on Cluster Division"
      ]
    },
    {
      "cell_type": "code",
      "execution_count": 17,
      "metadata": {
        "id": "PErJs6VtAMYd"
      },
      "outputs": [],
      "source": [
        "df = pd.DataFrame()\n",
        "df['Age']  = X[:,0]\n",
        "df['Income (k$)'] = X[:,1]\n",
        "df['Spending Score (1-100)'] = X[:,2]\n",
        "df['Cluster No.'] = y_kmeans"
      ]
    },
    {
      "cell_type": "code",
      "execution_count": 18,
      "metadata": {
        "colab": {
          "base_uri": "https://localhost:8080/",
          "height": 542
        },
        "id": "NITcBYShBNS2",
        "outputId": "acc4e294-c492-42d0-96ba-a0a66e5a79ac"
      },
      "outputs": [
        {
          "data": {
            "application/vnd.plotly.v1+json": {
              "config": {
                "plotlyServerURL": "https://plot.ly"
              },
              "data": [
                {
                  "hovertemplate": "Age=%{x}<br>Income (k$)=%{y}<br>Spending Score (1-100)=%{z}<br>Cluster No.=%{marker.color}<extra></extra>",
                  "legendgroup": "",
                  "marker": {
                    "color": [
                      5,
                      2,
                      5,
                      2,
                      5,
                      2,
                      5,
                      2,
                      5,
                      2,
                      5,
                      2,
                      5,
                      2,
                      5,
                      2,
                      5,
                      2,
                      5,
                      2,
                      5,
                      2,
                      5,
                      2,
                      5,
                      2,
                      5,
                      2,
                      5,
                      2,
                      5,
                      2,
                      5,
                      2,
                      5,
                      2,
                      5,
                      2,
                      5,
                      2,
                      5,
                      2,
                      5,
                      2,
                      5,
                      2,
                      0,
                      0,
                      0,
                      0,
                      0,
                      0,
                      0,
                      0,
                      0,
                      0,
                      0,
                      0,
                      0,
                      0,
                      0,
                      0,
                      0,
                      0,
                      0,
                      2,
                      0,
                      0,
                      2,
                      0,
                      0,
                      0,
                      0,
                      0,
                      0,
                      0,
                      0,
                      0,
                      0,
                      0,
                      0,
                      0,
                      0,
                      0,
                      0,
                      0,
                      0,
                      0,
                      0,
                      0,
                      0,
                      0,
                      0,
                      0,
                      0,
                      0,
                      0,
                      0,
                      0,
                      0,
                      0,
                      0,
                      0,
                      0,
                      0,
                      0,
                      0,
                      0,
                      0,
                      0,
                      0,
                      0,
                      0,
                      0,
                      0,
                      0,
                      0,
                      0,
                      0,
                      0,
                      0,
                      0,
                      0,
                      4,
                      3,
                      4,
                      0,
                      4,
                      3,
                      4,
                      3,
                      4,
                      3,
                      4,
                      3,
                      4,
                      3,
                      4,
                      3,
                      4,
                      3,
                      4,
                      3,
                      4,
                      3,
                      4,
                      3,
                      4,
                      3,
                      4,
                      3,
                      4,
                      3,
                      4,
                      3,
                      4,
                      3,
                      4,
                      3,
                      4,
                      3,
                      4,
                      3,
                      4,
                      3,
                      4,
                      3,
                      4,
                      3,
                      4,
                      3,
                      4,
                      3,
                      4,
                      3,
                      4,
                      3,
                      4,
                      3,
                      4,
                      3,
                      1,
                      3,
                      1,
                      3,
                      1,
                      3,
                      1,
                      3,
                      1,
                      3,
                      1,
                      3,
                      1,
                      3,
                      1,
                      3,
                      1,
                      3,
                      1
                    ],
                    "coloraxis": "coloraxis",
                    "symbol": "circle"
                  },
                  "mode": "markers",
                  "name": "",
                  "scene": "scene",
                  "showlegend": false,
                  "type": "scatter3d",
                  "x": [
                    19,
                    21,
                    20,
                    23,
                    31,
                    22,
                    35,
                    23,
                    64,
                    30,
                    67,
                    35,
                    58,
                    24,
                    37,
                    22,
                    35,
                    20,
                    52,
                    35,
                    35,
                    25,
                    46,
                    31,
                    54,
                    29,
                    45,
                    35,
                    40,
                    23,
                    60,
                    21,
                    53,
                    18,
                    49,
                    21,
                    42,
                    30,
                    36,
                    20,
                    65,
                    24,
                    48,
                    31,
                    49,
                    24,
                    50,
                    27,
                    29,
                    31,
                    49,
                    33,
                    31,
                    59,
                    50,
                    47,
                    51,
                    69,
                    27,
                    53,
                    70,
                    19,
                    67,
                    54,
                    63,
                    18,
                    43,
                    68,
                    19,
                    32,
                    70,
                    47,
                    60,
                    60,
                    59,
                    26,
                    45,
                    40,
                    23,
                    49,
                    57,
                    38,
                    67,
                    46,
                    21,
                    48,
                    55,
                    22,
                    34,
                    50,
                    68,
                    18,
                    48,
                    40,
                    32,
                    24,
                    47,
                    27,
                    48,
                    20,
                    23,
                    49,
                    67,
                    26,
                    49,
                    21,
                    66,
                    54,
                    68,
                    66,
                    65,
                    19,
                    38,
                    19,
                    18,
                    19,
                    63,
                    49,
                    51,
                    50,
                    27,
                    38,
                    40,
                    39,
                    23,
                    31,
                    43,
                    40,
                    59,
                    38,
                    47,
                    39,
                    25,
                    31,
                    20,
                    29,
                    44,
                    32,
                    19,
                    35,
                    57,
                    32,
                    28,
                    32,
                    25,
                    28,
                    48,
                    32,
                    34,
                    34,
                    43,
                    39,
                    44,
                    38,
                    47,
                    27,
                    37,
                    30,
                    34,
                    30,
                    56,
                    29,
                    19,
                    31,
                    50,
                    36,
                    42,
                    33,
                    36,
                    32,
                    40,
                    28,
                    36,
                    36,
                    52,
                    30,
                    58,
                    27,
                    59,
                    35,
                    37,
                    32,
                    46,
                    29,
                    41,
                    30,
                    54,
                    28,
                    41,
                    36,
                    34,
                    32,
                    33,
                    38,
                    47,
                    35,
                    45,
                    32,
                    32,
                    30
                  ],
                  "y": [
                    15,
                    15,
                    16,
                    16,
                    17,
                    17,
                    18,
                    18,
                    19,
                    19,
                    19,
                    19,
                    20,
                    20,
                    20,
                    20,
                    21,
                    21,
                    23,
                    23,
                    24,
                    24,
                    25,
                    25,
                    28,
                    28,
                    28,
                    28,
                    29,
                    29,
                    30,
                    30,
                    33,
                    33,
                    33,
                    33,
                    34,
                    34,
                    37,
                    37,
                    38,
                    38,
                    39,
                    39,
                    39,
                    39,
                    40,
                    40,
                    40,
                    40,
                    42,
                    42,
                    43,
                    43,
                    43,
                    43,
                    44,
                    44,
                    46,
                    46,
                    46,
                    46,
                    47,
                    47,
                    48,
                    48,
                    48,
                    48,
                    48,
                    48,
                    49,
                    49,
                    50,
                    50,
                    54,
                    54,
                    54,
                    54,
                    54,
                    54,
                    54,
                    54,
                    54,
                    54,
                    54,
                    54,
                    57,
                    57,
                    58,
                    58,
                    59,
                    59,
                    60,
                    60,
                    60,
                    60,
                    60,
                    60,
                    61,
                    61,
                    62,
                    62,
                    62,
                    62,
                    62,
                    62,
                    63,
                    63,
                    63,
                    63,
                    63,
                    63,
                    64,
                    64,
                    65,
                    65,
                    65,
                    65,
                    67,
                    67,
                    67,
                    67,
                    69,
                    69,
                    70,
                    70,
                    71,
                    71,
                    71,
                    71,
                    71,
                    71,
                    72,
                    72,
                    73,
                    73,
                    73,
                    73,
                    74,
                    74,
                    75,
                    75,
                    76,
                    76,
                    77,
                    77,
                    77,
                    77,
                    78,
                    78,
                    78,
                    78,
                    78,
                    78,
                    78,
                    78,
                    78,
                    78,
                    78,
                    78,
                    79,
                    79,
                    81,
                    81,
                    85,
                    85,
                    86,
                    86,
                    87,
                    87,
                    87,
                    87,
                    87,
                    87,
                    88,
                    88,
                    88,
                    88,
                    93,
                    93,
                    97,
                    97,
                    98,
                    98,
                    99,
                    99,
                    101,
                    101,
                    103,
                    103,
                    103,
                    103,
                    113,
                    113,
                    120,
                    120,
                    126,
                    126,
                    137,
                    137
                  ],
                  "z": [
                    39,
                    81,
                    6,
                    77,
                    40,
                    76,
                    6,
                    94,
                    3,
                    72,
                    14,
                    99,
                    15,
                    77,
                    13,
                    79,
                    35,
                    66,
                    29,
                    98,
                    35,
                    73,
                    5,
                    73,
                    14,
                    82,
                    32,
                    61,
                    31,
                    87,
                    4,
                    73,
                    4,
                    92,
                    14,
                    81,
                    17,
                    73,
                    26,
                    75,
                    35,
                    92,
                    36,
                    61,
                    28,
                    65,
                    55,
                    47,
                    42,
                    42,
                    52,
                    60,
                    54,
                    60,
                    45,
                    41,
                    50,
                    46,
                    51,
                    46,
                    56,
                    55,
                    52,
                    59,
                    51,
                    59,
                    50,
                    48,
                    59,
                    47,
                    55,
                    42,
                    49,
                    56,
                    47,
                    54,
                    53,
                    48,
                    52,
                    42,
                    51,
                    55,
                    41,
                    44,
                    57,
                    46,
                    58,
                    55,
                    60,
                    46,
                    55,
                    41,
                    49,
                    40,
                    42,
                    52,
                    47,
                    50,
                    42,
                    49,
                    41,
                    48,
                    59,
                    55,
                    56,
                    42,
                    50,
                    46,
                    43,
                    48,
                    52,
                    54,
                    42,
                    46,
                    48,
                    50,
                    43,
                    59,
                    43,
                    57,
                    56,
                    40,
                    58,
                    91,
                    29,
                    77,
                    35,
                    95,
                    11,
                    75,
                    9,
                    75,
                    34,
                    71,
                    5,
                    88,
                    7,
                    73,
                    10,
                    72,
                    5,
                    93,
                    40,
                    87,
                    12,
                    97,
                    36,
                    74,
                    22,
                    90,
                    17,
                    88,
                    20,
                    76,
                    16,
                    89,
                    1,
                    78,
                    1,
                    73,
                    35,
                    83,
                    5,
                    93,
                    26,
                    75,
                    20,
                    95,
                    27,
                    63,
                    13,
                    75,
                    10,
                    92,
                    13,
                    86,
                    15,
                    69,
                    14,
                    90,
                    32,
                    86,
                    15,
                    88,
                    39,
                    97,
                    24,
                    68,
                    17,
                    85,
                    23,
                    69,
                    8,
                    91,
                    16,
                    79,
                    28,
                    74,
                    18,
                    83
                  ]
                }
              ],
              "layout": {
                "coloraxis": {
                  "colorbar": {
                    "title": {
                      "text": "Cluster No."
                    }
                  },
                  "colorscale": [
                    [
                      0,
                      "#0d0887"
                    ],
                    [
                      0.1111111111111111,
                      "#46039f"
                    ],
                    [
                      0.2222222222222222,
                      "#7201a8"
                    ],
                    [
                      0.3333333333333333,
                      "#9c179e"
                    ],
                    [
                      0.4444444444444444,
                      "#bd3786"
                    ],
                    [
                      0.5555555555555556,
                      "#d8576b"
                    ],
                    [
                      0.6666666666666666,
                      "#ed7953"
                    ],
                    [
                      0.7777777777777778,
                      "#fb9f3a"
                    ],
                    [
                      0.8888888888888888,
                      "#fdca26"
                    ],
                    [
                      1,
                      "#f0f921"
                    ]
                  ]
                },
                "legend": {
                  "tracegroupgap": 0
                },
                "margin": {
                  "t": 60
                },
                "scene": {
                  "domain": {
                    "x": [
                      0,
                      1
                    ],
                    "y": [
                      0,
                      1
                    ]
                  },
                  "xaxis": {
                    "title": {
                      "text": "Age"
                    }
                  },
                  "yaxis": {
                    "title": {
                      "text": "Income (k$)"
                    }
                  },
                  "zaxis": {
                    "title": {
                      "text": "Spending Score (1-100)"
                    }
                  }
                },
                "template": {
                  "data": {
                    "bar": [
                      {
                        "error_x": {
                          "color": "#2a3f5f"
                        },
                        "error_y": {
                          "color": "#2a3f5f"
                        },
                        "marker": {
                          "line": {
                            "color": "#E5ECF6",
                            "width": 0.5
                          },
                          "pattern": {
                            "fillmode": "overlay",
                            "size": 10,
                            "solidity": 0.2
                          }
                        },
                        "type": "bar"
                      }
                    ],
                    "barpolar": [
                      {
                        "marker": {
                          "line": {
                            "color": "#E5ECF6",
                            "width": 0.5
                          },
                          "pattern": {
                            "fillmode": "overlay",
                            "size": 10,
                            "solidity": 0.2
                          }
                        },
                        "type": "barpolar"
                      }
                    ],
                    "carpet": [
                      {
                        "aaxis": {
                          "endlinecolor": "#2a3f5f",
                          "gridcolor": "white",
                          "linecolor": "white",
                          "minorgridcolor": "white",
                          "startlinecolor": "#2a3f5f"
                        },
                        "baxis": {
                          "endlinecolor": "#2a3f5f",
                          "gridcolor": "white",
                          "linecolor": "white",
                          "minorgridcolor": "white",
                          "startlinecolor": "#2a3f5f"
                        },
                        "type": "carpet"
                      }
                    ],
                    "choropleth": [
                      {
                        "colorbar": {
                          "outlinewidth": 0,
                          "ticks": ""
                        },
                        "type": "choropleth"
                      }
                    ],
                    "contour": [
                      {
                        "colorbar": {
                          "outlinewidth": 0,
                          "ticks": ""
                        },
                        "colorscale": [
                          [
                            0,
                            "#0d0887"
                          ],
                          [
                            0.1111111111111111,
                            "#46039f"
                          ],
                          [
                            0.2222222222222222,
                            "#7201a8"
                          ],
                          [
                            0.3333333333333333,
                            "#9c179e"
                          ],
                          [
                            0.4444444444444444,
                            "#bd3786"
                          ],
                          [
                            0.5555555555555556,
                            "#d8576b"
                          ],
                          [
                            0.6666666666666666,
                            "#ed7953"
                          ],
                          [
                            0.7777777777777778,
                            "#fb9f3a"
                          ],
                          [
                            0.8888888888888888,
                            "#fdca26"
                          ],
                          [
                            1,
                            "#f0f921"
                          ]
                        ],
                        "type": "contour"
                      }
                    ],
                    "contourcarpet": [
                      {
                        "colorbar": {
                          "outlinewidth": 0,
                          "ticks": ""
                        },
                        "type": "contourcarpet"
                      }
                    ],
                    "heatmap": [
                      {
                        "colorbar": {
                          "outlinewidth": 0,
                          "ticks": ""
                        },
                        "colorscale": [
                          [
                            0,
                            "#0d0887"
                          ],
                          [
                            0.1111111111111111,
                            "#46039f"
                          ],
                          [
                            0.2222222222222222,
                            "#7201a8"
                          ],
                          [
                            0.3333333333333333,
                            "#9c179e"
                          ],
                          [
                            0.4444444444444444,
                            "#bd3786"
                          ],
                          [
                            0.5555555555555556,
                            "#d8576b"
                          ],
                          [
                            0.6666666666666666,
                            "#ed7953"
                          ],
                          [
                            0.7777777777777778,
                            "#fb9f3a"
                          ],
                          [
                            0.8888888888888888,
                            "#fdca26"
                          ],
                          [
                            1,
                            "#f0f921"
                          ]
                        ],
                        "type": "heatmap"
                      }
                    ],
                    "heatmapgl": [
                      {
                        "colorbar": {
                          "outlinewidth": 0,
                          "ticks": ""
                        },
                        "colorscale": [
                          [
                            0,
                            "#0d0887"
                          ],
                          [
                            0.1111111111111111,
                            "#46039f"
                          ],
                          [
                            0.2222222222222222,
                            "#7201a8"
                          ],
                          [
                            0.3333333333333333,
                            "#9c179e"
                          ],
                          [
                            0.4444444444444444,
                            "#bd3786"
                          ],
                          [
                            0.5555555555555556,
                            "#d8576b"
                          ],
                          [
                            0.6666666666666666,
                            "#ed7953"
                          ],
                          [
                            0.7777777777777778,
                            "#fb9f3a"
                          ],
                          [
                            0.8888888888888888,
                            "#fdca26"
                          ],
                          [
                            1,
                            "#f0f921"
                          ]
                        ],
                        "type": "heatmapgl"
                      }
                    ],
                    "histogram": [
                      {
                        "marker": {
                          "pattern": {
                            "fillmode": "overlay",
                            "size": 10,
                            "solidity": 0.2
                          }
                        },
                        "type": "histogram"
                      }
                    ],
                    "histogram2d": [
                      {
                        "colorbar": {
                          "outlinewidth": 0,
                          "ticks": ""
                        },
                        "colorscale": [
                          [
                            0,
                            "#0d0887"
                          ],
                          [
                            0.1111111111111111,
                            "#46039f"
                          ],
                          [
                            0.2222222222222222,
                            "#7201a8"
                          ],
                          [
                            0.3333333333333333,
                            "#9c179e"
                          ],
                          [
                            0.4444444444444444,
                            "#bd3786"
                          ],
                          [
                            0.5555555555555556,
                            "#d8576b"
                          ],
                          [
                            0.6666666666666666,
                            "#ed7953"
                          ],
                          [
                            0.7777777777777778,
                            "#fb9f3a"
                          ],
                          [
                            0.8888888888888888,
                            "#fdca26"
                          ],
                          [
                            1,
                            "#f0f921"
                          ]
                        ],
                        "type": "histogram2d"
                      }
                    ],
                    "histogram2dcontour": [
                      {
                        "colorbar": {
                          "outlinewidth": 0,
                          "ticks": ""
                        },
                        "colorscale": [
                          [
                            0,
                            "#0d0887"
                          ],
                          [
                            0.1111111111111111,
                            "#46039f"
                          ],
                          [
                            0.2222222222222222,
                            "#7201a8"
                          ],
                          [
                            0.3333333333333333,
                            "#9c179e"
                          ],
                          [
                            0.4444444444444444,
                            "#bd3786"
                          ],
                          [
                            0.5555555555555556,
                            "#d8576b"
                          ],
                          [
                            0.6666666666666666,
                            "#ed7953"
                          ],
                          [
                            0.7777777777777778,
                            "#fb9f3a"
                          ],
                          [
                            0.8888888888888888,
                            "#fdca26"
                          ],
                          [
                            1,
                            "#f0f921"
                          ]
                        ],
                        "type": "histogram2dcontour"
                      }
                    ],
                    "mesh3d": [
                      {
                        "colorbar": {
                          "outlinewidth": 0,
                          "ticks": ""
                        },
                        "type": "mesh3d"
                      }
                    ],
                    "parcoords": [
                      {
                        "line": {
                          "colorbar": {
                            "outlinewidth": 0,
                            "ticks": ""
                          }
                        },
                        "type": "parcoords"
                      }
                    ],
                    "pie": [
                      {
                        "automargin": true,
                        "type": "pie"
                      }
                    ],
                    "scatter": [
                      {
                        "fillpattern": {
                          "fillmode": "overlay",
                          "size": 10,
                          "solidity": 0.2
                        },
                        "type": "scatter"
                      }
                    ],
                    "scatter3d": [
                      {
                        "line": {
                          "colorbar": {
                            "outlinewidth": 0,
                            "ticks": ""
                          }
                        },
                        "marker": {
                          "colorbar": {
                            "outlinewidth": 0,
                            "ticks": ""
                          }
                        },
                        "type": "scatter3d"
                      }
                    ],
                    "scattercarpet": [
                      {
                        "marker": {
                          "colorbar": {
                            "outlinewidth": 0,
                            "ticks": ""
                          }
                        },
                        "type": "scattercarpet"
                      }
                    ],
                    "scattergeo": [
                      {
                        "marker": {
                          "colorbar": {
                            "outlinewidth": 0,
                            "ticks": ""
                          }
                        },
                        "type": "scattergeo"
                      }
                    ],
                    "scattergl": [
                      {
                        "marker": {
                          "colorbar": {
                            "outlinewidth": 0,
                            "ticks": ""
                          }
                        },
                        "type": "scattergl"
                      }
                    ],
                    "scattermapbox": [
                      {
                        "marker": {
                          "colorbar": {
                            "outlinewidth": 0,
                            "ticks": ""
                          }
                        },
                        "type": "scattermapbox"
                      }
                    ],
                    "scatterpolar": [
                      {
                        "marker": {
                          "colorbar": {
                            "outlinewidth": 0,
                            "ticks": ""
                          }
                        },
                        "type": "scatterpolar"
                      }
                    ],
                    "scatterpolargl": [
                      {
                        "marker": {
                          "colorbar": {
                            "outlinewidth": 0,
                            "ticks": ""
                          }
                        },
                        "type": "scatterpolargl"
                      }
                    ],
                    "scatterternary": [
                      {
                        "marker": {
                          "colorbar": {
                            "outlinewidth": 0,
                            "ticks": ""
                          }
                        },
                        "type": "scatterternary"
                      }
                    ],
                    "surface": [
                      {
                        "colorbar": {
                          "outlinewidth": 0,
                          "ticks": ""
                        },
                        "colorscale": [
                          [
                            0,
                            "#0d0887"
                          ],
                          [
                            0.1111111111111111,
                            "#46039f"
                          ],
                          [
                            0.2222222222222222,
                            "#7201a8"
                          ],
                          [
                            0.3333333333333333,
                            "#9c179e"
                          ],
                          [
                            0.4444444444444444,
                            "#bd3786"
                          ],
                          [
                            0.5555555555555556,
                            "#d8576b"
                          ],
                          [
                            0.6666666666666666,
                            "#ed7953"
                          ],
                          [
                            0.7777777777777778,
                            "#fb9f3a"
                          ],
                          [
                            0.8888888888888888,
                            "#fdca26"
                          ],
                          [
                            1,
                            "#f0f921"
                          ]
                        ],
                        "type": "surface"
                      }
                    ],
                    "table": [
                      {
                        "cells": {
                          "fill": {
                            "color": "#EBF0F8"
                          },
                          "line": {
                            "color": "white"
                          }
                        },
                        "header": {
                          "fill": {
                            "color": "#C8D4E3"
                          },
                          "line": {
                            "color": "white"
                          }
                        },
                        "type": "table"
                      }
                    ]
                  },
                  "layout": {
                    "annotationdefaults": {
                      "arrowcolor": "#2a3f5f",
                      "arrowhead": 0,
                      "arrowwidth": 1
                    },
                    "autotypenumbers": "strict",
                    "coloraxis": {
                      "colorbar": {
                        "outlinewidth": 0,
                        "ticks": ""
                      }
                    },
                    "colorscale": {
                      "diverging": [
                        [
                          0,
                          "#8e0152"
                        ],
                        [
                          0.1,
                          "#c51b7d"
                        ],
                        [
                          0.2,
                          "#de77ae"
                        ],
                        [
                          0.3,
                          "#f1b6da"
                        ],
                        [
                          0.4,
                          "#fde0ef"
                        ],
                        [
                          0.5,
                          "#f7f7f7"
                        ],
                        [
                          0.6,
                          "#e6f5d0"
                        ],
                        [
                          0.7,
                          "#b8e186"
                        ],
                        [
                          0.8,
                          "#7fbc41"
                        ],
                        [
                          0.9,
                          "#4d9221"
                        ],
                        [
                          1,
                          "#276419"
                        ]
                      ],
                      "sequential": [
                        [
                          0,
                          "#0d0887"
                        ],
                        [
                          0.1111111111111111,
                          "#46039f"
                        ],
                        [
                          0.2222222222222222,
                          "#7201a8"
                        ],
                        [
                          0.3333333333333333,
                          "#9c179e"
                        ],
                        [
                          0.4444444444444444,
                          "#bd3786"
                        ],
                        [
                          0.5555555555555556,
                          "#d8576b"
                        ],
                        [
                          0.6666666666666666,
                          "#ed7953"
                        ],
                        [
                          0.7777777777777778,
                          "#fb9f3a"
                        ],
                        [
                          0.8888888888888888,
                          "#fdca26"
                        ],
                        [
                          1,
                          "#f0f921"
                        ]
                      ],
                      "sequentialminus": [
                        [
                          0,
                          "#0d0887"
                        ],
                        [
                          0.1111111111111111,
                          "#46039f"
                        ],
                        [
                          0.2222222222222222,
                          "#7201a8"
                        ],
                        [
                          0.3333333333333333,
                          "#9c179e"
                        ],
                        [
                          0.4444444444444444,
                          "#bd3786"
                        ],
                        [
                          0.5555555555555556,
                          "#d8576b"
                        ],
                        [
                          0.6666666666666666,
                          "#ed7953"
                        ],
                        [
                          0.7777777777777778,
                          "#fb9f3a"
                        ],
                        [
                          0.8888888888888888,
                          "#fdca26"
                        ],
                        [
                          1,
                          "#f0f921"
                        ]
                      ]
                    },
                    "colorway": [
                      "#636efa",
                      "#EF553B",
                      "#00cc96",
                      "#ab63fa",
                      "#FFA15A",
                      "#19d3f3",
                      "#FF6692",
                      "#B6E880",
                      "#FF97FF",
                      "#FECB52"
                    ],
                    "font": {
                      "color": "#2a3f5f"
                    },
                    "geo": {
                      "bgcolor": "white",
                      "lakecolor": "white",
                      "landcolor": "#E5ECF6",
                      "showlakes": true,
                      "showland": true,
                      "subunitcolor": "white"
                    },
                    "hoverlabel": {
                      "align": "left"
                    },
                    "hovermode": "closest",
                    "mapbox": {
                      "style": "light"
                    },
                    "paper_bgcolor": "white",
                    "plot_bgcolor": "#E5ECF6",
                    "polar": {
                      "angularaxis": {
                        "gridcolor": "white",
                        "linecolor": "white",
                        "ticks": ""
                      },
                      "bgcolor": "#E5ECF6",
                      "radialaxis": {
                        "gridcolor": "white",
                        "linecolor": "white",
                        "ticks": ""
                      }
                    },
                    "scene": {
                      "xaxis": {
                        "backgroundcolor": "#E5ECF6",
                        "gridcolor": "white",
                        "gridwidth": 2,
                        "linecolor": "white",
                        "showbackground": true,
                        "ticks": "",
                        "zerolinecolor": "white"
                      },
                      "yaxis": {
                        "backgroundcolor": "#E5ECF6",
                        "gridcolor": "white",
                        "gridwidth": 2,
                        "linecolor": "white",
                        "showbackground": true,
                        "ticks": "",
                        "zerolinecolor": "white"
                      },
                      "zaxis": {
                        "backgroundcolor": "#E5ECF6",
                        "gridcolor": "white",
                        "gridwidth": 2,
                        "linecolor": "white",
                        "showbackground": true,
                        "ticks": "",
                        "zerolinecolor": "white"
                      }
                    },
                    "shapedefaults": {
                      "line": {
                        "color": "#2a3f5f"
                      }
                    },
                    "ternary": {
                      "aaxis": {
                        "gridcolor": "white",
                        "linecolor": "white",
                        "ticks": ""
                      },
                      "baxis": {
                        "gridcolor": "white",
                        "linecolor": "white",
                        "ticks": ""
                      },
                      "bgcolor": "#E5ECF6",
                      "caxis": {
                        "gridcolor": "white",
                        "linecolor": "white",
                        "ticks": ""
                      }
                    },
                    "title": {
                      "x": 0.05
                    },
                    "xaxis": {
                      "automargin": true,
                      "gridcolor": "white",
                      "linecolor": "white",
                      "ticks": "",
                      "title": {
                        "standoff": 15
                      },
                      "zerolinecolor": "white",
                      "zerolinewidth": 2
                    },
                    "yaxis": {
                      "automargin": true,
                      "gridcolor": "white",
                      "linecolor": "white",
                      "ticks": "",
                      "title": {
                        "standoff": 15
                      },
                      "zerolinecolor": "white",
                      "zerolinewidth": 2
                    }
                  }
                }
              }
            }
          },
          "metadata": {},
          "output_type": "display_data"
        }
      ],
      "source": [
        "fig = xp.scatter_3d(df,x='Age',y='Income (k$)',z='Spending Score (1-100)',color='Cluster No.')\n",
        "fig.show()"
      ]
    },
    {
      "cell_type": "code",
      "execution_count": null,
      "metadata": {
        "id": "G3hGHkE0BepJ"
      },
      "outputs": [],
      "source": []
    }
  ],
  "metadata": {
    "colab": {
      "provenance": []
    },
    "kernelspec": {
      "display_name": "Python 3",
      "name": "python3"
    },
    "language_info": {
      "codemirror_mode": {
        "name": "ipython",
        "version": 3
      },
      "file_extension": ".py",
      "mimetype": "text/x-python",
      "name": "python",
      "nbconvert_exporter": "python",
      "pygments_lexer": "ipython3",
      "version": "3.12.2"
    }
  },
  "nbformat": 4,
  "nbformat_minor": 0
}
